{
 "cells": [
  {
   "cell_type": "code",
   "execution_count": 1,
   "metadata": {},
   "outputs": [],
   "source": [
    "import pandas as pd\n",
    "import matplotlib.pyplot as plt\n",
    "import numpy as np\n",
    "from sklearn import linear_model\n",
    "from sklearn.model_selection import train_test_split\n",
    "from sklearn.preprocessing import MinMaxScaler\n",
    "from tensorflow.keras.layers import Dense,LSTM,LeakyReLU\n",
    "from tensorflow.keras.models import Sequential\n",
    "from tensorflow.python.framework import ops\n",
    "from sklearn.metrics import mean_absolute_error,mean_squared_error\n",
    "import random\n",
    "from tqdm.notebook import trange"
   ]
  },
  {
   "cell_type": "code",
   "execution_count": 31,
   "metadata": {},
   "outputs": [],
   "source": [
    "import h5py\n",
    "import random\n",
    "from tqdm.notebook import trange\n",
    "import numpy as np\n",
    "import os\n",
    "class n_evolution():\n",
    "\n",
    "    def __init__(self, random_file,save_directory, population,safe_mutation_list):\n",
    "        self.directory = str(save_directory)\n",
    "        self.population = population\n",
    "        self.safe_mutation_list=safe_mutation_list\n",
    "        print('LOAD DATA FROM : '+str(random_file))\n",
    "        f=h5py.File(random_file,'r')\n",
    "        r=f['RANDOM'][:]\n",
    "        f.close()\n",
    "        self.r = r    \n",
    "        \n",
    "    def mutation(self,weights):\n",
    "        \n",
    "        ## return same matrix with different weights comming from random list\n",
    "        \n",
    "        weights2 = np.array(weights,copy=False)\n",
    "        new_weights = []\n",
    "        random.seed(int(abs(random.choice(self.r)*1000)))\n",
    "        \n",
    "        for k in range(len(weights2)-1):\n",
    "            list2d = list(weights2[k])\n",
    "            sh = weights2[k].shape\n",
    "            list2d = np.ravel(list2d)\n",
    "            wii = list2d\n",
    "            if np.max(wii) != 1 or np.min(wii) != 0:\n",
    "                for k1 in range(len(wii)):\n",
    "                    if random.choice([True,False]) == True:\n",
    "                        wii[k1] = wii[k1] + float(random.choice(self.r)/random.choice(self.safe_mutation_list))\n",
    "            wii = np.reshape(wii,sh)\n",
    "            new_weights.append(wii)\n",
    "            del(wii)\n",
    "        new_weights.append(weights2[-1])\n",
    "            \n",
    "        return np.array(new_weights)\n",
    "    def reproduction(self,mother,father):\n",
    "        \n",
    "        ## return same matrix with different weights comming from random list\n",
    "        mother = np.array(mother,copy=False)\n",
    "        father = np.array(father,copy=False)\n",
    "        new_weights = []\n",
    "\n",
    "        for k in range(len(mother)-1):\n",
    "            list2d_01 = list(mother[k])\n",
    "            list2d_02 = list(father[k])\n",
    "            sh = mother[k].shape\n",
    "            list2d_01 = np.ravel(list2d_01)\n",
    "            list2d_02 = np.ravel(list2d_02)\n",
    "            wii = list2d_01\n",
    "            if random.choice([True,False]) == True:\n",
    "                if np.max(wii) != 1 or np.min(wii) != 0:\n",
    "                    for k1 in range(len(wii)):\n",
    "                        if random.choice([True,False]) == True:\n",
    "                            wii[k1] = list2d_02[k1]\n",
    "                        else:\n",
    "                            wii[k1] = list2d_01[k1]\n",
    "            wii = np.reshape(wii,sh)\n",
    "            new_weights.append(wii)\n",
    "            del(wii)\n",
    "            del(list2d_01)\n",
    "            del(list2d_02)\n",
    "        new_weights.append(mother[-1])\n",
    "        return np.array(new_weights)\n",
    "    \n",
    "    def natural_selection(self,mw,idxs):\n",
    "        ## select the best weights from criterious, comming from score function.\n",
    "        models = []\n",
    "        mw = list(mw)\n",
    "        \n",
    "        for pop in trange(self.population):\n",
    "            if pop < len(idxs):\n",
    "                nw = list(mw[idxs[pop]])\n",
    "                models.append(nw)\n",
    "            else:\n",
    "                if random.choice([True,False])==True:\n",
    "                    rep=self.reproduction(np.array(mw[random.choice(idxs)],copy=False),\n",
    "                                          np.array(mw[random.choice(idxs)],copy=False))\n",
    "                else:\n",
    "                    rep=np.array(mw[random.choice(idxs)],copy=False)\n",
    "                nw = list(self.mutation(np.array(rep,copy=False)))\n",
    "                models.append(nw)\n",
    "                \n",
    "        models_weights = list(models)\n",
    "        return models_weights\n",
    "    \n",
    "    \n",
    "    def neuro_fit(self,model,score, X_train, y_train, X_test, y_test,models_weights, generations, elite_size, criterious,verbose=0,save_freq=10,test_freq=10,batch_size=32):        \n",
    "        \n",
    "        #model_weights = initialization()\n",
    "         \n",
    "        stats = []\n",
    "        stats_test = []\n",
    "        print(generations)\n",
    "        for n in trange(generations):\n",
    "            \n",
    "            reward=[]\n",
    "            reward_test=[]\n",
    "            print('| Geração %s'%n)\n",
    "            \n",
    "            for i in trange(self.population):\n",
    "                \n",
    "                #### Train\n",
    "                model.set_weights(models_weights[i])\n",
    "                y_pred=[]\n",
    "                inicial_index=random.choice([0,1,2,3,4,5,6,7,8,9,10,11,12])\n",
    "                x_pred=X_train[inicial_index:inicial_index+1]\n",
    "                for k in range(inicial_index,len(y_train)):\n",
    "                    x_pred=model.predict(x_pred,batch_size=1)\n",
    "                    y_pred.append([x_pred[0][0],x_pred[0][1],x_pred[0][2]])\n",
    "                pred = np.array(y_pred)\n",
    "                reward.append(score(y_train[inicial_index:],pred))\n",
    "                \n",
    "                if n%save_freq == 0:\n",
    "                #### Test\n",
    "                    model.set_weights(models_weights[i])\n",
    "                    pred_test = model.predict(X_test,batch_size=batch_size)\n",
    "                    reward_test.append(score(y_test,pred_test))\n",
    "                    \n",
    "            reward = np.array(reward)\n",
    "            idxs = np.argsort(reward)\n",
    "            if verbose==1:\n",
    "                print(idxs)\n",
    "                print(reward)\n",
    "            try:\n",
    "                if criterious =='min':\n",
    "                    idxs = idxs[:elite_size]\n",
    "                elif criterious =='max':\n",
    "                    idxs = idxs[-elite_size:]\n",
    "            except ValueError:\n",
    "                    print(\"Choose criterious is not acceptable\")\n",
    "\n",
    "            if criterious =='min':\n",
    "                print('| BEST CREATURE : %0.8f | MEAN : %0.8f | STD : %0.8f'%(min(reward),np.mean(reward),np.std(reward)))\n",
    "            elif criterious =='max':\n",
    "                print('| BEST CREATURE : %0.8f | MEAN : %0.8f | STD : %0.8f'%(max(reward),np.mean(reward),np.std(reward)))\n",
    "            \n",
    "            if n%test_freq == 0:   \n",
    "                reward_test = np.array(reward_test)\n",
    "                \n",
    "                if criterious =='min':\n",
    "                    print('| BEST CREATURE TEST: %0.8f | MEAN TEST : %0.8f | STD TEST : %0.8f'%(min(reward_test[:]),\n",
    "                                                                                                np.mean(reward_test[:]),\n",
    "                                                                                                np.std(reward_test[:])))\n",
    "                    stats_test.append([min(reward_test[:]),np.mean(reward_test[:]),np.std(reward_test[:])])\n",
    "                elif criterious =='max':\n",
    "                    print('| BEST CREATURE TEST: %0.8f | MEAN TEST : %0.8f | STD TEST : %0.8f'%(max(reward_test[:]),\n",
    "                                                                                                np.mean(reward_test[:]),\n",
    "                                                                                                np.std(reward_test[:])))\n",
    "                    stats_test.append([max(reward_test[:]),np.mean(reward_test[:]),np.std(reward_test[:])])\n",
    "            if criterious =='min':\n",
    "                stats.append([min(reward),np.mean(reward),np.std(reward)])\n",
    "            if criterious == 'max':\n",
    "                stats.append([max(reward),np.mean(reward),np.std(reward)])\n",
    "            ########### \n",
    "            if n%save_freq == 0:\n",
    "                self.save_weights(model,models_weights, n)\n",
    "            if verbose ==1:\n",
    "                print('SAVING FILES')\n",
    "            if n == generations-1:\n",
    "                print('BEST CREATURES')\n",
    "                print(idxs)\n",
    "                print('ENDING TRANING')\n",
    "                self.save_weights(model,models_weights, n)\n",
    "                break\n",
    "                \n",
    "            print(\"MUTATING\")\n",
    "            if verbose==1:\n",
    "                print(idxs)\n",
    "            models_weights = np.array(self.natural_selection(models_weights,idxs))\n",
    "            del(reward)\n",
    "        return np.array(stats),np.array(stats_test)\n",
    "    def save_weights(self, model,models_weights, gen):\n",
    "        try:\n",
    "            os.mkdir(self.directory+'gen_%05d/'%gen)\n",
    "        except:\n",
    "            pass\n",
    "        for i in trange(len(models_weights)):\n",
    "            model.set_weights(models_weights[i])\n",
    "            model.save_weights(self.directory+'gen_%05d/creatures_%04d.hdf5'%(gen,i))"
   ]
  },
  {
   "cell_type": "code",
   "execution_count": 32,
   "metadata": {},
   "outputs": [],
   "source": [
    "df = pd.read_csv('./TFP.csv')"
   ]
  },
  {
   "cell_type": "code",
   "execution_count": 33,
   "metadata": {},
   "outputs": [
    {
     "data": {
      "text/plain": [
       "(186, 3)"
      ]
     },
     "execution_count": 33,
     "metadata": {},
     "output_type": "execute_result"
    }
   ],
   "source": [
    "df.shape"
   ]
  },
  {
   "cell_type": "code",
   "execution_count": 34,
   "metadata": {},
   "outputs": [
    {
     "data": {
      "text/plain": [
       "Index(['isocode', 'year', 'rtfpna'], dtype='object')"
      ]
     },
     "execution_count": 34,
     "metadata": {},
     "output_type": "execute_result"
    }
   ],
   "source": [
    "df.columns"
   ]
  },
  {
   "cell_type": "code",
   "execution_count": 35,
   "metadata": {},
   "outputs": [
    {
     "data": {
      "text/plain": [
       "{'CAN', 'MEX', 'USA'}"
      ]
     },
     "execution_count": 35,
     "metadata": {},
     "output_type": "execute_result"
    }
   ],
   "source": [
    "set(df.isocode)"
   ]
  },
  {
   "cell_type": "code",
   "execution_count": 36,
   "metadata": {},
   "outputs": [],
   "source": [
    "df.index = df.year"
   ]
  },
  {
   "cell_type": "code",
   "execution_count": 37,
   "metadata": {},
   "outputs": [],
   "source": [
    "year = df[df.isocode=='USA'].year"
   ]
  },
  {
   "cell_type": "code",
   "execution_count": 38,
   "metadata": {},
   "outputs": [],
   "source": [
    "usa_rtfpna = df[df.isocode=='USA'].rtfpna\n",
    "can_rtfpna = df[df.isocode=='CAN'].rtfpna\n",
    "mex_rtfpna = df[df.isocode=='MEX'].rtfpna"
   ]
  },
  {
   "cell_type": "code",
   "execution_count": 39,
   "metadata": {},
   "outputs": [
    {
     "data": {
      "text/plain": [
       "[<matplotlib.lines.Line2D at 0x7fc361727e90>]"
      ]
     },
     "execution_count": 39,
     "metadata": {},
     "output_type": "execute_result"
    },
    {
     "data": {
      "image/png": "[encoded data removed]",
      "text/plain": [
       "<Figure size 432x288 with 1 Axes>"
      ]
     },
     "metadata": {
      "needs_background": "light"
     },
     "output_type": "display_data"
    }
   ],
   "source": [
    "plt.plot(mex_rtfpna)\n",
    "plt.plot(can_rtfpna)\n",
    "plt.plot(usa_rtfpna)"
   ]
  },
  {
   "cell_type": "code",
   "execution_count": 40,
   "metadata": {},
   "outputs": [],
   "source": [
    "x=[]\n",
    "y=[]\n",
    "for i in range(1950,2000):\n",
    "    x.append([mex_rtfpna[i],can_rtfpna[i],usa_rtfpna[i]])\n",
    "    y.append([mex_rtfpna[i+1],can_rtfpna[i+1],usa_rtfpna[i+1]])\n",
    "x=np.array(x)\n",
    "y=np.array(y)"
   ]
  },
  {
   "cell_type": "code",
   "execution_count": 41,
   "metadata": {},
   "outputs": [],
   "source": [
    "\n",
    "x_test=[]\n",
    "y_test=[]\n",
    "for i in range(2000,2011):\n",
    "    x_test.append([mex_rtfpna[i],can_rtfpna[i],usa_rtfpna[i]])\n",
    "    y_test.append([mex_rtfpna[i+1],can_rtfpna[i+1],usa_rtfpna[i+1]])\n",
    "x_test=np.array(x_test)\n",
    "y_test=np.array(y_test)"
   ]
  },
  {
   "cell_type": "code",
   "execution_count": 42,
   "metadata": {},
   "outputs": [],
   "source": [
    "########### Creat a function to give model with 'rando' inicilization\n",
    "def get_model():\n",
    "    ops.reset_default_graph()\n",
    "    model=Sequential()\n",
    "    ini=random.choice(['glorot_normal','glorot_uniform','he_normal','lecun_normal','he_uniform'])\n",
    "    model.add(Dense(32,activation='tanh',kernel_initializer=ini,input_dim=3))\n",
    "    ini=random.choice(['glorot_normal','glorot_uniform','he_normal','lecun_normal','he_uniform'])\n",
    "    model.add(Dense(32,activation='tanh',kernel_initializer=ini))\n",
    "    ini=random.choice(['glorot_normal','glorot_uniform','he_normal','lecun_normal','he_uniform'])\n",
    "    model.add(Dense(3,activation='linear',kernel_initializer=ini))\n",
    "    return model"
   ]
  },
  {
   "cell_type": "code",
   "execution_count": 43,
   "metadata": {},
   "outputs": [
    {
     "name": "stdout",
     "output_type": "stream",
     "text": [
      "Model: \"sequential\"\n",
      "_________________________________________________________________\n",
      "Layer (type)                 Output Shape              Param #   \n",
      "=================================================================\n",
      "dense (Dense)                (None, 32)                128       \n",
      "_________________________________________________________________\n",
      "dense_1 (Dense)              (None, 32)                1056      \n",
      "_________________________________________________________________\n",
      "dense_2 (Dense)              (None, 3)                 99        \n",
      "=================================================================\n",
      "Total params: 1,283\n",
      "Trainable params: 1,283\n",
      "Non-trainable params: 0\n",
      "_________________________________________________________________\n"
     ]
    }
   ],
   "source": [
    "model=get_model()\n",
    "model.summary()"
   ]
  },
  {
   "cell_type": "code",
   "execution_count": 44,
   "metadata": {},
   "outputs": [],
   "source": [
    "# This function inialize the model with 'random weights' \n",
    "#you can load previous trained models\n",
    "def initialization(population,load_save=False):\n",
    "    models_weights=[]\n",
    "    if load_save!=False:\n",
    "        model=get_model()\n",
    "        for i in trange(population):\n",
    "            model.load_weights('./gen_01000/creatures_%04d.hdf5'%i)\n",
    "            models_weights.append(model.get_weights())\n",
    "    else:\n",
    "        for i in trange(population):\n",
    "            models_weights.append(get_model().get_weights())\n",
    "    return models_weights"
   ]
  },
  {
   "cell_type": "code",
   "execution_count": 45,
   "metadata": {},
   "outputs": [],
   "source": [
    "pred=model.predict(x_test)"
   ]
  },
  {
   "cell_type": "code",
   "execution_count": 46,
   "metadata": {},
   "outputs": [],
   "source": [
    "def score(y_true,y_pred):\n",
    "    return mean_absolute_error(y_true.flatten(),y_pred.flatten())"
   ]
  },
  {
   "cell_type": "code",
   "execution_count": 47,
   "metadata": {},
   "outputs": [
    {
     "data": {
      "text/plain": [
       "0.7596100695205458"
      ]
     },
     "execution_count": 47,
     "metadata": {},
     "output_type": "execute_result"
    }
   ],
   "source": [
    "score(y_test,pred)"
   ]
  },
  {
   "cell_type": "code",
   "execution_count": 52,
   "metadata": {},
   "outputs": [
    {
     "data": {
      "application/vnd.jupyter.widget-view+json": {
       "model_id": "8969e2befdb64baebb9989c5653ddae2",
       "version_major": 2,
       "version_minor": 0
      },
      "text/plain": [
       "HBox(children=(FloatProgress(value=0.0, max=20.0), HTML(value='')))"
      ]
     },
     "metadata": {},
     "output_type": "display_data"
    },
    {
     "name": "stdout",
     "output_type": "stream",
     "text": [
      "\n"
     ]
    }
   ],
   "source": [
    "model=get_model()\n",
    "######### In this function we define the population to be trained\n",
    "model_weigths=initialization(20)"
   ]
  },
  {
   "cell_type": "code",
   "execution_count": 53,
   "metadata": {},
   "outputs": [
    {
     "name": "stdout",
     "output_type": "stream",
     "text": [
      "LOAD DATA FROM : /media/otavio/f0bb40a6-0762-4b60-836c-a7208dcb0cd5/DEEP_NEUROEVOLUTION/TRUE_RANDOM.h5\n"
     ]
    }
   ],
   "source": [
    "nmodel = n_evolution('/media/otavio/f0bb40a6-0762-4b60-836c-a7208dcb0cd5/DEEP_NEUROEVOLUTION/TRUE_RANDOM.h5',\n",
    "                     save_directory='./',\n",
    "                     population=len(model_weigths),\n",
    "                     safe_mutation_list=[1e5,1e5,1e5,1e6,1e7])"
   ]
  },
  {
   "cell_type": "code",
   "execution_count": null,
   "metadata": {},
   "outputs": [
    {
     "name": "stdout",
     "output_type": "stream",
     "text": [
      "10001\n"
     ]
    },
    {
     "data": {
      "application/vnd.jupyter.widget-view+json": {
       "model_id": "4e66c8205bbb46b2a16f2534e4356fd7",
       "version_major": 2,
       "version_minor": 0
      },
      "text/plain": [
       "HBox(children=(FloatProgress(value=0.0, max=10001.0), HTML(value='')))"
      ]
     },
     "metadata": {},
     "output_type": "display_data"
    },
    {
     "name": "stdout",
     "output_type": "stream",
     "text": [
      "| Geração 0\n"
     ]
    },
    {
     "data": {
      "application/vnd.jupyter.widget-view+json": {
       "model_id": "450805b6975d4091b80ee375267a70d1",
       "version_major": 2,
       "version_minor": 0
      },
      "text/plain": [
       "HBox(children=(FloatProgress(value=0.0, max=20.0), HTML(value='')))"
      ]
     },
     "metadata": {},
     "output_type": "display_data"
    }
   ],
   "source": [
    "hist,hist_test=nmodel.neuro_fit(model,score,x,y\n",
    "                                ,x_test,y_test,\n",
    "                                model_weigths,generations=10001,save_freq=100, \n",
    "                                elite_size=2, criterious='min',verbose=0,batch_size=32)"
   ]
  },
  {
   "cell_type": "code",
   "execution_count": 158,
   "metadata": {},
   "outputs": [
    {
     "data": {
      "text/plain": [
       "[<matplotlib.lines.Line2D at 0x7f08cb880fd0>]"
      ]
     },
     "execution_count": 158,
     "metadata": {},
     "output_type": "execute_result"
    },
    {
     "data": {
      "image/png": "[encoded data removed]",
      "text/plain": [
       "<Figure size 432x288 with 1 Axes>"
      ]
     },
     "metadata": {
      "needs_background": "light"
     },
     "output_type": "display_data"
    }
   ],
   "source": [
    "plt.plot(hist[:,0])\n",
    "plt.plot(hist[:,1])"
   ]
  },
  {
   "cell_type": "code",
   "execution_count": 181,
   "metadata": {},
   "outputs": [
    {
     "data": {
      "text/plain": [
       "[<matplotlib.lines.Line2D at 0x7f08e5251bd0>]"
      ]
     },
     "execution_count": 181,
     "metadata": {},
     "output_type": "execute_result"
    },
    {
     "data": {
      "image/png": "[encoded data removed]",
      "text/plain": [
       "<Figure size 432x288 with 1 Axes>"
      ]
     },
     "metadata": {
      "needs_background": "light"
     },
     "output_type": "display_data"
    }
   ],
   "source": [
    "plt.plot(hist[:,-1])"
   ]
  },
  {
   "cell_type": "code",
   "execution_count": 182,
   "metadata": {},
   "outputs": [
    {
     "data": {
      "text/plain": [
       "[<matplotlib.lines.Line2D at 0x7f08daa97d50>]"
      ]
     },
     "execution_count": 182,
     "metadata": {},
     "output_type": "execute_result"
    },
    {
     "data": {
      "image/png": "[encoded data removed]",
      "text/plain": [
       "<Figure size 432x288 with 1 Axes>"
      ]
     },
     "metadata": {
      "needs_background": "light"
     },
     "output_type": "display_data"
    }
   ],
   "source": [
    "plt.plot(hist_test[:,0])\n",
    "plt.plot(hist_test[:,1])"
   ]
  },
  {
   "cell_type": "code",
   "execution_count": 183,
   "metadata": {},
   "outputs": [],
   "source": [
    "model.set_weights(model_weigths[0])"
   ]
  },
  {
   "cell_type": "code",
   "execution_count": 184,
   "metadata": {},
   "outputs": [
    {
     "data": {
      "text/plain": [
       "[<matplotlib.lines.Line2D at 0x7f08dc1f4d90>,\n",
       " <matplotlib.lines.Line2D at 0x7f08c04a6c10>,\n",
       " <matplotlib.lines.Line2D at 0x7f08c04a6510>]"
      ]
     },
     "execution_count": 184,
     "metadata": {},
     "output_type": "execute_result"
    },
    {
     "data": {
      "image/png": "[encoded data removed]",
      "text/plain": [
       "<Figure size 432x288 with 1 Axes>"
      ]
     },
     "metadata": {
      "needs_background": "light"
     },
     "output_type": "display_data"
    }
   ],
   "source": [
    "plt.plot(model.predict(x_test))"
   ]
  },
  {
   "cell_type": "code",
   "execution_count": 185,
   "metadata": {},
   "outputs": [
    {
     "data": {
      "text/plain": [
       "[<matplotlib.lines.Line2D at 0x7f08bfb18050>,\n",
       " <matplotlib.lines.Line2D at 0x7f08bfb18990>,\n",
       " <matplotlib.lines.Line2D at 0x7f08bfb18710>]"
      ]
     },
     "execution_count": 185,
     "metadata": {},
     "output_type": "execute_result"
    },
    {
     "data": {
      "image/png": "[encoded data removed]",
      "text/plain": [
       "<Figure size 432x288 with 1 Axes>"
      ]
     },
     "metadata": {
      "needs_background": "light"
     },
     "output_type": "display_data"
    }
   ],
   "source": [
    "plt.plot(y_test)"
   ]
  },
  {
   "cell_type": "code",
   "execution_count": 188,
   "metadata": {},
   "outputs": [],
   "source": [
    "y_pred=[]\n",
    "x_pred=x[0:1]\n",
    "for i in range(60):\n",
    "    x_pred=model.predict(x_pred)\n",
    "    y_pred.append([x_pred[0][0],x_pred[0][1],x_pred[0][2]])"
   ]
  },
  {
   "cell_type": "code",
   "execution_count": 189,
   "metadata": {},
   "outputs": [
    {
     "data": {
      "text/plain": [
       "[<matplotlib.lines.Line2D at 0x7f08c0921510>]"
      ]
     },
     "execution_count": 189,
     "metadata": {},
     "output_type": "execute_result"
    },
    {
     "data": {
      "image/png": "[encoded data removed]",
      "text/plain": [
       "<Figure size 432x288 with 1 Axes>"
      ]
     },
     "metadata": {
      "needs_background": "light"
     },
     "output_type": "display_data"
    }
   ],
   "source": [
    "plt.plot(y_pred)"
   ]
  },
  {
   "cell_type": "code",
   "execution_count": null,
   "metadata": {},
   "outputs": [],
   "source": []
  }
 ],
 "metadata": {
  "kernelspec": {
   "display_name": "Python 3",
   "language": "python",
   "name": "python3"
  },
  "language_info": {
   "codemirror_mode": {
    "name": "ipython",
    "version": 3
   },
   "file_extension": ".py",
   "mimetype": "text/x-python",
   "name": "python",
   "nbconvert_exporter": "python",
   "pygments_lexer": "ipython3",
   "version": "3.7.6"
  }
 },
 "nbformat": 4,
 "nbformat_minor": 4
}
